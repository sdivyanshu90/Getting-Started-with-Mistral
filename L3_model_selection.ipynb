{
 "cells": [
  {
   "cell_type": "markdown",
   "id": "f501ffce-f4f6-4701-8dd3-3ed32a5134ba",
   "metadata": {},
   "source": [
    "# Model Selection"
   ]
  },
  {
   "cell_type": "markdown",
   "id": "bd845946-a8c7-4e06-9ffe-dd893ee5e137",
   "metadata": {},
   "source": [
    "### Get API Key"
   ]
  },
  {
   "cell_type": "code",
   "execution_count": 1,
   "id": "4896b6d5-9e73-4fd1-9fc0-8a7cb93bb750",
   "metadata": {
    "height": 64
   },
   "outputs": [],
   "source": [
    "from helper import load_mistral_api_key\n",
    "api_key, dlai_endpoint = load_mistral_api_key(ret_key=True)"
   ]
  },
  {
   "cell_type": "markdown",
   "id": "d5800f02-c8a0-4e82-a4bd-ce6ddf7a26b7",
   "metadata": {},
   "source": [
    "- Note: in the classroom, if you print out this `api_key` variable, it is not a real API key (for security reasons).\n",
    "- If you wish to run this code on your own machine, outside of the classroom, you can still reuse the code that you see in `helper.py`.\n",
    "- It uses [python-dotenv](https://pypi.org/project/python-dotenv/) library to securely save and load sensitive information such as API keys."
   ]
  },
  {
   "cell_type": "code",
   "execution_count": 2,
   "id": "51403fae-91e9-4e24-9353-02495cb2babc",
   "metadata": {
    "height": 302
   },
   "outputs": [],
   "source": [
    "import os\n",
    "from mistralai.client import MistralClient\n",
    "from mistralai.models.chat_completion import ChatMessage\n",
    "\n",
    "def mistral(user_message, model=\"mistral-small-latest\", is_json=False):\n",
    "    client = MistralClient(api_key=api_key, endpoint=dlai_endpoint)\n",
    "    messages = [ChatMessage(role=\"user\", content=user_message)]\n",
    "\n",
    "    if is_json:\n",
    "        chat_response = client.chat(\n",
    "            model=model, messages=messages, response_format={\"type\": \"json_object\"}\n",
    "        )\n",
    "    else:\n",
    "        chat_response = client.chat(model=model, messages=messages)\n",
    "\n",
    "    return chat_response.choices[0].message.content"
   ]
  },
  {
   "cell_type": "markdown",
   "id": "03db3133-63d2-4cc7-b562-efce0991a143",
   "metadata": {},
   "source": [
    "## Mistral Small\n",
    "\n",
    "Good for simple tasks, fast inference, lower cost.\n",
    "- classification"
   ]
  },
  {
   "cell_type": "code",
   "execution_count": 3,
   "id": "18eaa6a5-6653-4587-8077-e409191c790b",
   "metadata": {
    "height": 183
   },
   "outputs": [],
   "source": [
    "prompt = \"\"\"\n",
    "Classify the following email to determine if it is spam or not.\n",
    "Only respond with the exact text \"Spam\" or \"Not Spam\". \n",
    "\n",
    "# Email:\n",
    "🎉 Urgent! You've Won a $1,000,000 Cash Prize! \n",
    "💰 To claim your prize, please click on the link below: \n",
    "https://bit.ly/claim-your-prize\n",
    "\"\"\""
   ]
  },
  {
   "cell_type": "code",
   "execution_count": 4,
   "id": "11cef6cd-bb24-46c5-9e83-2d81168057eb",
   "metadata": {
    "height": 47,
    "scrolled": true
   },
   "outputs": [
    {
     "data": {
      "text/plain": [
       "'Spam'"
      ]
     },
     "execution_count": 4,
     "metadata": {},
     "output_type": "execute_result"
    }
   ],
   "source": [
    "mistral(prompt, model=\"mistral-small-latest\")"
   ]
  },
  {
   "cell_type": "markdown",
   "id": "6ac31f9e-8446-417c-aec8-598e141686bc",
   "metadata": {},
   "source": [
    "## Mistral Medium\n",
    "\n",
    "Good for intermediate tasks such as language transformation.\n",
    "- Composing text based on provided context (e.g. writing a customer service email based on purchase information)."
   ]
  },
  {
   "cell_type": "code",
   "execution_count": 5,
   "id": "87ce9677-a0a2-40ef-903d-571561c0fc65",
   "metadata": {
    "height": 268
   },
   "outputs": [],
   "source": [
    "prompt = \"\"\"\n",
    "Compose a welcome email for new customers who have just made \n",
    "their first purchase with your product. \n",
    "Start by expressing your gratitude for their business, \n",
    "and then convey your excitement for having them as a customer. \n",
    "Include relevant details about their recent order. \n",
    "Sign the email with \"The Fun Shop Team\".\n",
    "\n",
    "Order details:\n",
    "- Customer name: Anna\n",
    "- Product: hat \n",
    "- Estimate date of delivery: Feb. 25, 2024\n",
    "- Return policy: 30 days\n",
    "\"\"\""
   ]
  },
  {
   "cell_type": "code",
   "execution_count": 6,
   "id": "1e0bb8a6-5be9-4a83-9413-14e154c845de",
   "metadata": {
    "height": 47
   },
   "outputs": [],
   "source": [
    "response_medium = mistral(prompt, model=\"mistral-medium-latest\")"
   ]
  },
  {
   "cell_type": "code",
   "execution_count": 7,
   "id": "6de3dada-f0e1-4dee-9a41-31cac83256b0",
   "metadata": {
    "height": 30
   },
   "outputs": [
    {
     "name": "stdout",
     "output_type": "stream",
     "text": [
      "**Subject:** Welcome to The Fun Shop, Anna! Your Hat is on the Way 🎉\n",
      "\n",
      "**Hi Anna,**\n",
      "\n",
      "We’re so grateful you chose **The Fun Shop** for your first purchase—thank you for supporting our small business! 🎩✨ Your new hat is already packed with care and will be on its way to you soon.\n",
      "\n",
      "**Here’s a quick recap of your order:**\n",
      "- **Product:** A stylish hat (we know you’ll love it!)\n",
      "- **Estimated Delivery:** February 25, 2024\n",
      "- **Return Policy:** 30 days—because we want you to be 100% happy!\n",
      "\n",
      "We’re thrilled to have you as part of our community and can’t wait to see how you style your new hat. If you have any questions or just want to share a photo of your look, reply to this email—we’d love to hear from you!\n",
      "\n",
      "Welcome to the fun side of shopping. 😊\n",
      "\n",
      "**The Fun Shop Team**\n"
     ]
    }
   ],
   "source": [
    "print(response_medium)"
   ]
  },
  {
   "cell_type": "markdown",
   "id": "9d3b2c99-c01a-4beb-8685-355f6c21ce55",
   "metadata": {},
   "source": [
    "## Mistral Large: \n",
    "\n",
    "Good for complex tasks that require advanced reasoning.\n",
    "- Math and reasoning with numbers."
   ]
  },
  {
   "cell_type": "code",
   "execution_count": 8,
   "id": "fc4c9957-48dc-46b8-bb6f-f506af1f768f",
   "metadata": {
    "height": 268
   },
   "outputs": [],
   "source": [
    "prompt = \"\"\"\n",
    "Calculate the difference in payment dates between the two \\\n",
    "customers whose payment amounts are closest to each other \\\n",
    "in the following dataset. Do not write code.\n",
    "\n",
    "# dataset: \n",
    "'{\n",
    "  \"transaction_id\":{\"0\":\"T1001\",\"1\":\"T1002\",\"2\":\"T1003\",\"3\":\"T1004\",\"4\":\"T1005\"},\n",
    "    \"customer_id\":{\"0\":\"C001\",\"1\":\"C002\",\"2\":\"C003\",\"3\":\"C002\",\"4\":\"C001\"},\n",
    "    \"payment_amount\":{\"0\":125.5,\"1\":89.99,\"2\":120.0,\"3\":54.3,\"4\":210.2},\n",
    "\"payment_date\":{\"0\":\"2021-10-05\",\"1\":\"2021-10-06\",\"2\":\"2021-10-07\",\"3\":\"2021-10-05\",\"4\":\"2021-10-08\"},\n",
    "    \"payment_status\":{\"0\":\"Paid\",\"1\":\"Unpaid\",\"2\":\"Paid\",\"3\":\"Paid\",\"4\":\"Pending\"}\n",
    "}'\n",
    "\"\"\""
   ]
  },
  {
   "cell_type": "code",
   "execution_count": 9,
   "id": "ba02ea8b-8872-4a7d-8195-6285e4b422a3",
   "metadata": {
    "height": 47
   },
   "outputs": [],
   "source": [
    "response_small = mistral(prompt, model=\"mistral-small-latest\")"
   ]
  },
  {
   "cell_type": "code",
   "execution_count": 10,
   "id": "74554e58-25a0-402d-95ad-8ada5c0cc743",
   "metadata": {
    "height": 30
   },
   "outputs": [
    {
     "name": "stdout",
     "output_type": "stream",
     "text": [
      "To solve this problem, we need to find the two customers whose payment amounts are closest to each other and then calculate the difference in their payment dates. Here's the step-by-step reasoning:\n",
      "\n",
      "1. **Extract Payment Amounts and Dates**:\n",
      "   - The payment amounts are: 125.5, 89.99, 120.0, 54.3, 210.2.\n",
      "   - The corresponding payment dates are: \"2021-10-05\", \"2021-10-06\", \"2021-10-07\", \"2021-10-05\", \"2021-10-08\".\n",
      "\n",
      "2. **Identify the Two Closest Payment Amounts**:\n",
      "   - Sort the payment amounts in ascending order: 54.3, 89.99, 120.0, 125.5, 210.2.\n",
      "   - The two closest amounts are 120.0 and 125.5 (difference of 5.5).\n",
      "\n",
      "3. **Find the Corresponding Payment Dates**:\n",
      "   - The payment amount 120.0 corresponds to the date \"2021-10-07\".\n",
      "   - The payment amount 125.5 corresponds to the date \"2021-10-05\".\n",
      "\n",
      "4. **Calculate the Difference in Payment Dates**:\n",
      "   - Convert the dates to a comparable format (e.g., days since a reference date or datetime objects).\n",
      "   - \"2021-10-05\" is 2 days before \"2021-10-07\" (assuming no month-end adjustments are needed).\n",
      "   - The difference is 2 days.\n",
      "\n",
      "### Final Answer:\n",
      "The difference in payment dates between the two customers with the closest payment amounts (120.0 and 125.5) is **2 days**.\n"
     ]
    }
   ],
   "source": [
    "print(response_small)"
   ]
  },
  {
   "cell_type": "code",
   "execution_count": 11,
   "id": "987a0aef-67dc-4ada-82ac-4b0dc1b6b5ae",
   "metadata": {
    "height": 47
   },
   "outputs": [],
   "source": [
    "response_large = mistral(prompt, model=\"mistral-large-latest\")"
   ]
  },
  {
   "cell_type": "code",
   "execution_count": 12,
   "id": "f21a55c1-c700-4bf3-be22-5ad432dc3f10",
   "metadata": {
    "height": 30
   },
   "outputs": [
    {
     "name": "stdout",
     "output_type": "stream",
     "text": [
      "To find the difference in payment dates between the two customers whose payment amounts are closest to each other, follow these steps:\n",
      "\n",
      "1. **Extract payment amounts and dates**:\n",
      "   - T1001: $125.50 (2021-10-05)\n",
      "   - T1002: $89.99 (2021-10-06)\n",
      "   - T1003: $120.00 (2021-10-07)\n",
      "   - T1004: $54.30 (2021-10-05)\n",
      "   - T1005: $210.20 (2021-10-08)\n",
      "\n",
      "2. **Calculate the absolute differences between all pairs of payment amounts**:\n",
      "   - |125.50 - 89.99| = 35.51\n",
      "   - |125.50 - 120.00| = 5.50\n",
      "   - |125.50 - 54.30| = 71.20\n",
      "   - |125.50 - 210.20| = 84.70\n",
      "   - |89.99 - 120.00| = 30.01\n",
      "   - |89.99 - 54.30| = 35.69\n",
      "   - |89.99 - 210.20| = 120.21\n",
      "   - |120.00 - 54.30| = 65.70\n",
      "   - |120.00 - 210.20| = 90.20\n",
      "   - |54.30 - 210.20| = 155.90\n",
      "\n",
      "3. **Identify the smallest difference**:\n",
      "   - The smallest difference is **5.50** between **$125.50 (T1001)** and **$120.00 (T1003)**.\n",
      "\n",
      "4. **Extract the payment dates for these two transactions**:\n",
      "   - T1001: 2021-10-05\n",
      "   - T1003: 2021-10-07\n",
      "\n",
      "5. **Calculate the difference in payment dates**:\n",
      "   - From 2021-10-05 to 2021-10-07 is **2 days**.\n",
      "\n",
      "### Final Answer:\n",
      "The difference in payment dates between the two customers with the closest payment amounts is **2 days**.\n"
     ]
    }
   ],
   "source": [
    "print(response_large)"
   ]
  },
  {
   "cell_type": "markdown",
   "id": "a15be44d-ecb4-47f6-bed5-5b08c6bc391a",
   "metadata": {},
   "source": [
    "## Expense reporting task"
   ]
  },
  {
   "cell_type": "code",
   "execution_count": 13,
   "id": "f7c1deb9-37f4-4182-b43c-3bad2637598c",
   "metadata": {
    "height": 353
   },
   "outputs": [],
   "source": [
    "transactions = \"\"\"\n",
    "McDonald's: 8.40\n",
    "Safeway: 10.30\n",
    "Carrefour: 15.00\n",
    "Toys R Us: 20.50\n",
    "Panda Express: 10.20\n",
    "Beanie Baby Outlet: 25.60\n",
    "World Food Wraps: 22.70\n",
    "Stuffed Animals Shop: 45.10\n",
    "Sanrio Store: 85.70\n",
    "\"\"\"\n",
    "\n",
    "prompt = f\"\"\"\n",
    "Given the purchase details, how much did I spend on each category:\n",
    "1) restaurants\n",
    "2) groceries\n",
    "3) stuffed animals and props\n",
    "{transactions}\n",
    "\"\"\""
   ]
  },
  {
   "cell_type": "code",
   "execution_count": 14,
   "id": "c534c567-cd20-4abb-adbc-cc9fe919c2f8",
   "metadata": {
    "height": 64
   },
   "outputs": [
    {
     "name": "stdout",
     "output_type": "stream",
     "text": [
      "Here's the breakdown of your spending by category:\n",
      "\n",
      "1) **Restaurants**:\n",
      "   - McDonald's: $8.40\n",
      "   - Panda Express: $10.20\n",
      "   - **Total**: $8.40 + $10.20 = **$18.60**\n",
      "\n",
      "2) **Groceries**:\n",
      "   - Safeway: $10.30\n",
      "   - Carrefour: $15.00\n",
      "   - World Food Wraps: $22.70\n",
      "   - **Total**: $10.30 + $15.00 + $22.70 = **$48.00**\n",
      "\n",
      "3) **Stuffed Animals and Props**:\n",
      "   - Toys R Us: $20.50\n",
      "   - Beanie Baby Outlet: $25.60\n",
      "   - Stuffed Animals Shop: $45.10\n",
      "   - Sanrio Store: $85.70\n",
      "   - **Total**: $20.50 + $25.60 + $45.10 + $85.70 = **$176.90**\n",
      "\n",
      "### Summary:\n",
      "- **Restaurants**: $18.60\n",
      "- **Groceries**: $48.00\n",
      "- **Stuffed Animals and Props**: $176.90\n"
     ]
    }
   ],
   "source": [
    "response_small = mistral(prompt, model=\"mistral-small-latest\")\n",
    "print(response_small)"
   ]
  },
  {
   "cell_type": "code",
   "execution_count": 15,
   "id": "47960a78-7689-47ee-adee-6c8412d5477b",
   "metadata": {
    "height": 64
   },
   "outputs": [
    {
     "name": "stdout",
     "output_type": "stream",
     "text": [
      "Here's the breakdown of your spending by category:\n",
      "\n",
      "1) **Restaurants**:\n",
      "   - McDonald's: $8.40\n",
      "   - Panda Express: $10.20\n",
      "   - World Food Wraps: $22.70\n",
      "   **Total: $41.30**\n",
      "\n",
      "2) **Groceries**:\n",
      "   - Safeway: $10.30\n",
      "   - Carrefour: $15.00\n",
      "   **Total: $25.30**\n",
      "\n",
      "3) **Stuffed Animals and Props**:\n",
      "   - Toys R Us: $20.50\n",
      "   - Beanie Baby Outlet: $25.60\n",
      "   - Stuffed Animals Shop: $45.10\n",
      "   - Sanrio Store: $85.70\n",
      "   **Total: $176.90**\n"
     ]
    }
   ],
   "source": [
    "response_large = mistral(prompt, model=\"mistral-large-latest\")\n",
    "print(response_large)"
   ]
  },
  {
   "cell_type": "markdown",
   "id": "f90d6068-61b3-4490-aeb4-0be67ba9fd1b",
   "metadata": {},
   "source": [
    "## Writing and checking code"
   ]
  },
  {
   "cell_type": "code",
   "execution_count": 16,
   "id": "27945975-d2bc-40b9-9a59-48b10fe4da4b",
   "metadata": {
    "height": 251
   },
   "outputs": [],
   "source": [
    "user_message = \"\"\"\n",
    "Given an array of integers nums and an integer target, return indices of the two numbers such that they add up to target.\n",
    "\n",
    "You may assume that each input would have exactly one solution, and you may not use the same element twice.\n",
    "\n",
    "You can return the answer in any order.\n",
    "\n",
    "Your code should pass these tests:\n",
    "\n",
    "assert twoSum([2,7,11,15], 9) == [0,1]\n",
    "assert twoSum([3,2,4], 6) == [1,2]\n",
    "assert twoSum([3,3], 6) == [0,1]\n",
    "\"\"\""
   ]
  },
  {
   "cell_type": "code",
   "execution_count": 17,
   "id": "8e00a7bc-069a-43f9-bb02-e33a5d3dcc2f",
   "metadata": {
    "height": 47
   },
   "outputs": [
    {
     "name": "stdout",
     "output_type": "stream",
     "text": [
      "To solve this problem, we need to find two indices in an array such that the corresponding numbers add up to a given target. The solution should efficiently check pairs of numbers without using the same element twice and return the indices of the valid pair.\n",
      "\n",
      "### Approach\n",
      "1. **Brute Force Method**: The simplest approach is to check every possible pair of numbers in the array to see if they sum up to the target. This involves nested loops where the outer loop runs from the first element to the second last element, and the inner loop runs from the current element of the outer loop to the end of the array. The time complexity of this approach is O(n^2), which is inefficient for large arrays.\n",
      "\n",
      "2. **Hash Map (Dictionary) Method**: A more efficient approach involves using a hash map to store the elements of the array as we iterate through them. For each element, we check if the complement (target - current element) exists in the hash map. If it does, we return the indices of the current element and its complement. This method runs in O(n) time since each lookup and insertion in the hash map is O(1) on average.\n",
      "\n",
      "### Solution Code\n",
      "```python\n",
      "def twoSum(nums, target):\n",
      "    num_to_index = {}\n",
      "    for index, num in enumerate(nums):\n",
      "        complement = target - num\n",
      "        if complement in num_to_index:\n",
      "            return [num_to_index[complement], index]\n",
      "        num_to_index[num] = index\n",
      "    return []\n",
      "```\n",
      "\n",
      "### Explanation\n",
      "1. **Initialization**: We initialize an empty dictionary `num_to_index` to store numbers from the array as keys and their indices as values.\n",
      "2. **Iteration**: We iterate through each number in the array using `enumerate`, which provides both the index and the value of each element.\n",
      "3. **Complement Check**: For each number, we calculate the complement (i.e., the value needed to reach the target when added to the current number). We then check if this complement exists in the dictionary.\n",
      "4. **Return Indices**: If the complement is found in the dictionary, it means we have encountered a number earlier in the array that, when added to the current number, sums to the target. We then return the indices of these two numbers.\n",
      "5. **Store Current Number**: If the complement is not found, we store the current number along with its index in the dictionary for future checks.\n",
      "6. **Efficiency**: This approach efficiently checks for the solution in linear time, O(n), by leveraging the hash map for constant time lookups and insertions.\n",
      "\n",
      "This method ensures that we only traverse the list once, making it optimal for large input sizes while correctly handling all edge cases, including those where the same number might be used twice (but not the same element).\n"
     ]
    }
   ],
   "source": [
    "print(mistral(user_message, model=\"mistral-large-latest\"))"
   ]
  },
  {
   "cell_type": "markdown",
   "id": "f8e007ef-17fb-450a-85d5-f456d06352e1",
   "metadata": {},
   "source": [
    "### Try out the code that the model provided\n",
    "- Copy the code that the model provided and try running it!\n",
    "\n",
    "Here is the code that was output at the time of filming:\n",
    "```Python\n",
    "def twoSum(nums, target):\n",
    "    seen = {}\n",
    "    for i, num in enumerate(nums):\n",
    "        complement = target - num\n",
    "        if complement in seen:\n",
    "            return [seen[complement], i]\n",
    "        seen[num] = i\n",
    "```\n",
    "- Also try running the assert statements in the original prompt\n",
    "```Python\n",
    "assert twoSum([2,7,11,15], 9) == [0,1]\n",
    "assert twoSum([3,2,4], 6) == [1,2]\n",
    "assert twoSum([3,3], 6) == [0,1]\n",
    "```"
   ]
  },
  {
   "cell_type": "code",
   "execution_count": 19,
   "id": "fcd58acf-fa92-431d-a08a-ce05c1e21003",
   "metadata": {
    "height": 166
   },
   "outputs": [],
   "source": [
    "def twoSum(nums, target):\n",
    "    num_to_index = {}\n",
    "    for index, num in enumerate(nums):\n",
    "        complement = target - num\n",
    "        if complement in num_to_index:\n",
    "            return [num_to_index[complement], index]\n",
    "        num_to_index[num] = index\n",
    "    return []"
   ]
  },
  {
   "cell_type": "code",
   "execution_count": 20,
   "id": "49638589-88c6-439c-8192-65c511522fc1",
   "metadata": {
    "height": 30
   },
   "outputs": [],
   "source": [
    "assert twoSum([2,7,11,15], 9) == [0,1]"
   ]
  },
  {
   "cell_type": "code",
   "execution_count": 21,
   "id": "1e5f2648",
   "metadata": {
    "height": 30
   },
   "outputs": [],
   "source": [
    "assert twoSum([3,2,4], 6) == [1,2]"
   ]
  },
  {
   "cell_type": "code",
   "execution_count": 22,
   "id": "655bc671",
   "metadata": {
    "height": 30
   },
   "outputs": [],
   "source": [
    "assert twoSum([3,3], 6) == [0,1]"
   ]
  },
  {
   "cell_type": "markdown",
   "id": "3db8aa2a-aa1f-45f1-b4a4-d8eedc927677",
   "metadata": {},
   "source": [
    "## Natively Fluent in English, French, Spanish, German, and Italian\n",
    "- This means that you can use Mistral models for more than translating from one language to another.\n",
    "- If you are a native Spanish speaker, for instance, you can communicate with Mistral models in Spanish for any of your tasks."
   ]
  },
  {
   "cell_type": "code",
   "execution_count": 23,
   "id": "3cbad716-8da8-4c00-8eb1-889b69567986",
   "metadata": {
    "height": 81
   },
   "outputs": [],
   "source": [
    "user_message = \"\"\"\n",
    "Lequel est le plus lourd une livre de fer ou un kilogramme de plume\n",
    "\"\"\""
   ]
  },
  {
   "cell_type": "code",
   "execution_count": 24,
   "id": "72722d49-b12b-4334-bc1c-318874c57959",
   "metadata": {
    "height": 47,
    "scrolled": true
   },
   "outputs": [
    {
     "name": "stdout",
     "output_type": "stream",
     "text": [
      "Pour comparer le poids d'une livre de fer et d'un kilogramme de plumes, il faut d'abord convertir les unités dans le même système.\n",
      "\n",
      "- **1 livre (lb)** ≈ **0,4536 kilogrammes (kg)**\n",
      "- **1 kilogramme (kg)** = **1 kg**\n",
      "\n",
      "Donc :\n",
      "- **1 livre de fer** ≈ **0,4536 kg**\n",
      "- **1 kg de plumes** = **1 kg**\n",
      "\n",
      "**Conclusion** : **Un kilogramme de plumes est plus lourd qu'une livre de fer** (1 kg > 0,4536 kg).\n",
      "\n",
      "*(Remarque : Si on parlait d'une \"livre\" dans le sens ancien français équivalent à 500 g, la réponse changerait, mais aujourd'hui, la livre internationale est définie comme 0,4536 kg.)*\n"
     ]
    }
   ],
   "source": [
    "print(mistral(user_message, model=\"mistral-large-latest\"))"
   ]
  },
  {
   "cell_type": "markdown",
   "id": "bd4f1e52-49d5-4d02-b85c-5bce23896a20",
   "metadata": {},
   "source": [
    "### Try it out for yourself\n",
    "- Try communicating with the Mistral Large model in Spanish\n",
    "  - (If you need help, you can first translate a prompt from English to Spanish, and then prompt the model in Spanish)."
   ]
  },
  {
   "cell_type": "markdown",
   "id": "dc301515-157c-450b-828e-554ee6760809",
   "metadata": {},
   "source": [
    "## List of Mistral models that you can call:\n",
    "\n",
    "You can also call the two open source mistral models via API calls.\n",
    "Here is the list of models that you can try:\n",
    "```\n",
    "open-mistral-7b\n",
    "open-mixtral-8x7b\n",
    "open-mixtral-8x22b\n",
    "mistral-small-latest\n",
    "mistral-medium-latest\n",
    "mistral-large-latest\n",
    "```\n",
    "\n",
    "For example:\n",
    "```Python\n",
    "mistral(prompt, model=\"open-mixtral-8x22b\")\n",
    "```\n",
    "\n",
    "Note that we just released the `open-mixtral-8x22b` model. Check out our [release blog](https://mistral.ai/news/mixtral-8x22b/) for details. "
   ]
  },
  {
   "cell_type": "code",
   "execution_count": 28,
   "id": "6e316a8f-57fc-4774-980e-118c01239636",
   "metadata": {
    "height": 47
   },
   "outputs": [
    {
     "data": {
      "text/plain": [
       "'The sentiment of the sentence \"DeepLearning.AI is the best source to advance in AI\" is Positive with a high percentage. The sentence expresses a clear and strong opinion that DeepLearning.AI is the best source for advancing in AI, which is a positive sentiment. There is no indication of negativity or neutrality. Therefore, I would rate it as 100% Positive, 0% Negative, and 0% Neutral.'"
      ]
     },
     "execution_count": 28,
     "metadata": {},
     "output_type": "execute_result"
    }
   ],
   "source": [
    "mistral(\"Determine the sentiment of this sentence in three category (Positive, Negative, Neutral) with the percentage: DeepLearning.AI is the best source to advance in AI.\", model=\"open-mixtral-8x22b\")"
   ]
  }
 ],
 "metadata": {
  "kernelspec": {
   "display_name": "Python 3 (ipykernel)",
   "language": "python",
   "name": "python3"
  },
  "language_info": {
   "codemirror_mode": {
    "name": "ipython",
    "version": 3
   },
   "file_extension": ".py",
   "mimetype": "text/x-python",
   "name": "python",
   "nbconvert_exporter": "python",
   "pygments_lexer": "ipython3",
   "version": "3.11.9"
  }
 },
 "nbformat": 4,
 "nbformat_minor": 5
}
